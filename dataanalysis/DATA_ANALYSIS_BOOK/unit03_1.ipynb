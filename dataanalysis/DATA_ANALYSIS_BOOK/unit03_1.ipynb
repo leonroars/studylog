{
 "cells": [
  {
   "cell_type": "code",
   "execution_count": null,
   "id": "f1976565",
   "metadata": {},
   "outputs": [],
   "source": [
    "'''\n",
    "UNIT03 - '서울이 가장 더웠던 날은 언제였을까?'\n",
    "\n",
    "이 챕터는 직접 데이터를 분석할 때의 과정을 다음 3가지로 정리한다.\n",
    "1. 질문 다듬기 : 명확하게 원하는 바를 질문으로 정리하라는 것\n",
    "2. 문제 해결방법 구상하기 : 이 친구들은 달란다고 또 곱게 주는 쉬운 놈들이 아니기때문에 어떻게 하면 실토하게할지 적절한 취조방법을 고안해야한다.\n",
    "                      앞에서 우리가 같이 해보았던 데이터 전처리 과정을 생각해보면 이해가 쉬울 것이다.\n",
    "'''\n",
    "#ESGETITTT"
   ]
  },
  {
   "cell_type": "code",
   "execution_count": 2,
   "id": "155b90ee",
   "metadata": {},
   "outputs": [
    {
     "name": "stdout",
     "output_type": "stream",
     "text": [
      "기상 관측 이래 서울 일 최고 기온이 가장 높았던 날은 2018/08/01로, 39.6도 였습니다.\n"
     ]
    }
   ],
   "source": [
    "'''\n",
    "UNIT03 - 1 '1. 질문 다듬기' : \"기상 관측 이래, 서울의 최고 기온이 가장 높았던 날은 언제였고, 몇 도 였을까?\"\n",
    "'''\n",
    "import csv\n",
    "f = open('seoultemp.csv', 'r', encoding = 'cp949')\n",
    "data = csv.reader(f, delimiter = ',')\n",
    "header = next(data) #이거 중요함. 실제로 header라고 알려주는 부분임.\n",
    "max_temp = 0\n",
    "max_date = ''\n",
    "for row in data:\n",
    "    if row[-1] == '':\n",
    "        row[-1] = '-999'\n",
    "    row[-1] = float(row[-1])\n",
    "    if row[-1] > max_temp:\n",
    "        max_temp = row[-1]\n",
    "        max_date = row[0]\n",
    "print(\"기상 관측 이래 서울 일 최고 기온이 가장 높았던 날은 {}로, {}도 였습니다.\" .format(max_date, max_temp))\n"
   ]
  },
  {
   "cell_type": "code",
   "execution_count": null,
   "id": "0bae6e0c",
   "metadata": {},
   "outputs": [],
   "source": []
  }
 ],
 "metadata": {
  "kernelspec": {
   "display_name": "Python 3 (ipykernel)",
   "language": "python",
   "name": "python3"
  },
  "language_info": {
   "codemirror_mode": {
    "name": "ipython",
    "version": 3
   },
   "file_extension": ".py",
   "mimetype": "text/x-python",
   "name": "python",
   "nbconvert_exporter": "python",
   "pygments_lexer": "ipython3",
   "version": "3.10.0"
  }
 },
 "nbformat": 4,
 "nbformat_minor": 5
}
